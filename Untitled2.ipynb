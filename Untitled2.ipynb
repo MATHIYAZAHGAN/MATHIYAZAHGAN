{
  "nbformat": 4,
  "nbformat_minor": 0,
  "metadata": {
    "colab": {
      "name": "Untitled2.ipynb",
      "provenance": [],
      "collapsed_sections": [],
      "authorship_tag": "ABX9TyPch9xp0gXXPz97iE44MzAU",
      "include_colab_link": true
    },
    "kernelspec": {
      "name": "python3",
      "display_name": "Python 3"
    },
    "language_info": {
      "name": "python"
    }
  },
  "cells": [
    {
      "cell_type": "markdown",
      "metadata": {
        "id": "view-in-github",
        "colab_type": "text"
      },
      "source": [
        "<a href=\"https://colab.research.google.com/github/MATHIYAZAHGAN/MATHIYAZAHGAN/blob/main/Untitled2.ipynb\" target=\"_parent\"><img src=\"https://colab.research.google.com/assets/colab-badge.svg\" alt=\"Open In Colab\"/></a>"
      ]
    },
    {
      "cell_type": "code",
      "metadata": {
        "colab": {
          "base_uri": "https://localhost:8080/",
          "height": 129
        },
        "id": "zD_8fo46u0pa",
        "outputId": "4df649c9-1f64-404a-ea3c-47cc8a916cea"
      },
      "source": [
        "!pip install qrcode\n",
        "import random\n",
        "import os\n",
        "import datatime\n",
        "import qrcode\n",
        "image =Image.new('RGB',(1000,900),(255,255,255))\n",
        "draw = ImageDraw.Draw(image)\n",
        "font  = ImageFont.truetype('arial.ttf',size=45)\n",
        "os.system(\"ID CARD Generator\")\n",
        "d_date = datatime.datatime.now()\n",
        "reg_format_date = d_date.strftime(%d-%m-%Y\\t ID CARD Generator\\t %I :%M:%S%P\")\n",
        "print(reg_format_date)\n",
        "17-09-2021    ID CARD Generator  02:50:45 pm\n",
        "\n",
        "\n",
        "print('\\n\\nAll fields are Mandatory')\n",
        "print ('Avoid any kind of spelling Mistakes')\n",
        "print('Write Everything in uppercase letters')\n",
        "(x,y)=(50,50)\n",
        "message = input('\\n Enter your company name:')\n",
        "cpmpany=message \n",
        "color = 'rgb(0,0,0)'\n",
        "font =ImageFont.truetype('airtel.ttf',size=80)\n",
        "draw.text(x,y),message, fill=color, font=font)\n",
        "\n",
        "\n",
        "All field are Mandatory\n",
        "Avoid any kind of spellin Mistakes\n",
        "write Everything in uppercase letters\n",
        "Entern your  company Name: rishi \n",
        "\n",
        "\n",
        "\n",
        "(x,y)= (600,75)\n",
        "idno=random.randint(1000000,90000000)\n",
        "message = str('ID'+str(idno))\n",
        "color ='rgb(0,0,0)'\n",
        "font = ImageFont.truetype('aria.ttf',size=60)\n",
        "draw.text((x,y),message,fill= color,font=font)\n",
        " \n",
        "\n",
        " (x,y)=(50,250)\n",
        " message = input('Enter your full Name:')\n",
        " name=message\n",
        " color = 'rgb(0,0,0)'\n",
        " font =Imagefont.trucetype('arial.ttf',size=45)\n",
        " draw.text(x,y),message,fill-color,font=font)\n",
        " Enter your Full Name:mathi\n",
        "  \n",
        "\n",
        "  (x,y)=(50,350)\n",
        "  message = input('Enter your gender:')\n",
        "  color = input('Enter your gender:')/"
      ],
      "execution_count": 4,
      "outputs": [
        {
          "output_type": "error",
          "ename": "SyntaxError",
          "evalue": "ignored",
          "traceback": [
            "\u001b[0;36m  File \u001b[0;32m\"<ipython-input-4-b2c55a31fec9>\"\u001b[0;36m, line \u001b[0;32m11\u001b[0m\n\u001b[0;31m    reg_format_date = d_date.strftime(%d-%m-%Y\\t ID CARD Generator\\t %I :%M:%S%P\")\u001b[0m\n\u001b[0m                                      ^\u001b[0m\n\u001b[0;31mSyntaxError\u001b[0m\u001b[0;31m:\u001b[0m invalid syntax\n"
          ]
        }
      ]
    },
    {
      "cell_type": "code",
      "metadata": {
        "id": "Q40dRye6-ofk"
      },
      "source": [
        ""
      ],
      "execution_count": null,
      "outputs": []
    }
  ]
}